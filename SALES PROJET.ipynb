{
 "cells": [
  {
   "cell_type": "code",
   "execution_count": 52,
   "id": "initial_id",
   "metadata": {
    "collapsed": true,
    "jupyter": {
     "outputs_hidden": true
    },
    "ExecuteTime": {
     "end_time": "2024-02-07T01:02:37.881030400Z",
     "start_time": "2024-02-07T01:02:37.262776700Z"
    }
   },
   "outputs": [],
   "source": [
    "import pandas as pd\n",
    "from sklearn.model_selection import train_test_split\n",
    "from sklearn.linear_model import LinearRegression\n",
    "from sklearn.metrics import mean_squared_error\n"
   ]
  },
  {
   "cell_type": "code",
   "execution_count": 53,
   "id": "dae53989e447e360",
   "metadata": {
    "collapsed": false,
    "ExecuteTime": {
     "end_time": "2024-02-07T01:02:41.269477200Z",
     "start_time": "2024-02-07T01:02:37.271641Z"
    }
   },
   "outputs": [],
   "source": [
    "\n",
    "file_path = 'DataCoSupplyChainDataset.csv'\n",
    "\n",
    "# Lisez le fichier CSV avec pandas\n",
    "data = pd.read_csv(file_path, encoding='ISO-8859-1')"
   ]
  },
  {
   "cell_type": "code",
   "execution_count": 54,
   "id": "57d429c4682cb845",
   "metadata": {
    "collapsed": false,
    "ExecuteTime": {
     "end_time": "2024-02-07T01:02:41.335642900Z",
     "start_time": "2024-02-07T01:02:41.269477200Z"
    }
   },
   "outputs": [
    {
     "data": {
      "text/plain": "       Type  Days for shipping (real)  Days for shipment (scheduled)  \\\n0     DEBIT                         3                              4   \n1  TRANSFER                         5                              4   \n2      CASH                         4                              4   \n3     DEBIT                         3                              4   \n4   PAYMENT                         2                              4   \n\n   Benefit per order  Sales per customer   Delivery Status  \\\n0          91.250000          314.640015  Advance shipping   \n1        -249.089996          311.359985     Late delivery   \n2        -247.779999          309.720001  Shipping on time   \n3          22.860001          304.809998  Advance shipping   \n4         134.210007          298.250000  Advance shipping   \n\n   Late_delivery_risk  Category Id   Category Name Customer City  ...  \\\n0                   0           73  Sporting Goods        Caguas  ...   \n1                   1           73  Sporting Goods        Caguas  ...   \n2                   0           73  Sporting Goods      San Jose  ...   \n3                   0           73  Sporting Goods   Los Angeles  ...   \n4                   0           73  Sporting Goods        Caguas  ...   \n\n  Order Zipcode Product Card Id Product Category Id  Product Description  \\\n0           NaN            1360                  73                  NaN   \n1           NaN            1360                  73                  NaN   \n2           NaN            1360                  73                  NaN   \n3           NaN            1360                  73                  NaN   \n4           NaN            1360                  73                  NaN   \n\n                                  Product Image  Product Name Product Price  \\\n0  http://images.acmesports.sports/Smart+watch   Smart watch         327.75   \n1  http://images.acmesports.sports/Smart+watch   Smart watch         327.75   \n2  http://images.acmesports.sports/Smart+watch   Smart watch         327.75   \n3  http://images.acmesports.sports/Smart+watch   Smart watch         327.75   \n4  http://images.acmesports.sports/Smart+watch   Smart watch         327.75   \n\n  Product Status shipping date (DateOrders)   Shipping Mode  \n0              0             2/3/2018 22:56  Standard Class  \n1              0            1/18/2018 12:27  Standard Class  \n2              0            1/17/2018 12:06  Standard Class  \n3              0            1/16/2018 11:45  Standard Class  \n4              0            1/15/2018 11:24  Standard Class  \n\n[5 rows x 53 columns]",
      "text/html": "<div>\n<style scoped>\n    .dataframe tbody tr th:only-of-type {\n        vertical-align: middle;\n    }\n\n    .dataframe tbody tr th {\n        vertical-align: top;\n    }\n\n    .dataframe thead th {\n        text-align: right;\n    }\n</style>\n<table border=\"1\" class=\"dataframe\">\n  <thead>\n    <tr style=\"text-align: right;\">\n      <th></th>\n      <th>Type</th>\n      <th>Days for shipping (real)</th>\n      <th>Days for shipment (scheduled)</th>\n      <th>Benefit per order</th>\n      <th>Sales per customer</th>\n      <th>Delivery Status</th>\n      <th>Late_delivery_risk</th>\n      <th>Category Id</th>\n      <th>Category Name</th>\n      <th>Customer City</th>\n      <th>...</th>\n      <th>Order Zipcode</th>\n      <th>Product Card Id</th>\n      <th>Product Category Id</th>\n      <th>Product Description</th>\n      <th>Product Image</th>\n      <th>Product Name</th>\n      <th>Product Price</th>\n      <th>Product Status</th>\n      <th>shipping date (DateOrders)</th>\n      <th>Shipping Mode</th>\n    </tr>\n  </thead>\n  <tbody>\n    <tr>\n      <th>0</th>\n      <td>DEBIT</td>\n      <td>3</td>\n      <td>4</td>\n      <td>91.250000</td>\n      <td>314.640015</td>\n      <td>Advance shipping</td>\n      <td>0</td>\n      <td>73</td>\n      <td>Sporting Goods</td>\n      <td>Caguas</td>\n      <td>...</td>\n      <td>NaN</td>\n      <td>1360</td>\n      <td>73</td>\n      <td>NaN</td>\n      <td>http://images.acmesports.sports/Smart+watch</td>\n      <td>Smart watch</td>\n      <td>327.75</td>\n      <td>0</td>\n      <td>2/3/2018 22:56</td>\n      <td>Standard Class</td>\n    </tr>\n    <tr>\n      <th>1</th>\n      <td>TRANSFER</td>\n      <td>5</td>\n      <td>4</td>\n      <td>-249.089996</td>\n      <td>311.359985</td>\n      <td>Late delivery</td>\n      <td>1</td>\n      <td>73</td>\n      <td>Sporting Goods</td>\n      <td>Caguas</td>\n      <td>...</td>\n      <td>NaN</td>\n      <td>1360</td>\n      <td>73</td>\n      <td>NaN</td>\n      <td>http://images.acmesports.sports/Smart+watch</td>\n      <td>Smart watch</td>\n      <td>327.75</td>\n      <td>0</td>\n      <td>1/18/2018 12:27</td>\n      <td>Standard Class</td>\n    </tr>\n    <tr>\n      <th>2</th>\n      <td>CASH</td>\n      <td>4</td>\n      <td>4</td>\n      <td>-247.779999</td>\n      <td>309.720001</td>\n      <td>Shipping on time</td>\n      <td>0</td>\n      <td>73</td>\n      <td>Sporting Goods</td>\n      <td>San Jose</td>\n      <td>...</td>\n      <td>NaN</td>\n      <td>1360</td>\n      <td>73</td>\n      <td>NaN</td>\n      <td>http://images.acmesports.sports/Smart+watch</td>\n      <td>Smart watch</td>\n      <td>327.75</td>\n      <td>0</td>\n      <td>1/17/2018 12:06</td>\n      <td>Standard Class</td>\n    </tr>\n    <tr>\n      <th>3</th>\n      <td>DEBIT</td>\n      <td>3</td>\n      <td>4</td>\n      <td>22.860001</td>\n      <td>304.809998</td>\n      <td>Advance shipping</td>\n      <td>0</td>\n      <td>73</td>\n      <td>Sporting Goods</td>\n      <td>Los Angeles</td>\n      <td>...</td>\n      <td>NaN</td>\n      <td>1360</td>\n      <td>73</td>\n      <td>NaN</td>\n      <td>http://images.acmesports.sports/Smart+watch</td>\n      <td>Smart watch</td>\n      <td>327.75</td>\n      <td>0</td>\n      <td>1/16/2018 11:45</td>\n      <td>Standard Class</td>\n    </tr>\n    <tr>\n      <th>4</th>\n      <td>PAYMENT</td>\n      <td>2</td>\n      <td>4</td>\n      <td>134.210007</td>\n      <td>298.250000</td>\n      <td>Advance shipping</td>\n      <td>0</td>\n      <td>73</td>\n      <td>Sporting Goods</td>\n      <td>Caguas</td>\n      <td>...</td>\n      <td>NaN</td>\n      <td>1360</td>\n      <td>73</td>\n      <td>NaN</td>\n      <td>http://images.acmesports.sports/Smart+watch</td>\n      <td>Smart watch</td>\n      <td>327.75</td>\n      <td>0</td>\n      <td>1/15/2018 11:24</td>\n      <td>Standard Class</td>\n    </tr>\n  </tbody>\n</table>\n<p>5 rows × 53 columns</p>\n</div>"
     },
     "execution_count": 54,
     "metadata": {},
     "output_type": "execute_result"
    }
   ],
   "source": [
    "data.head()"
   ]
  },
  {
   "cell_type": "code",
   "execution_count": 55,
   "id": "add82d059d94e52d",
   "metadata": {
    "collapsed": false,
    "ExecuteTime": {
     "end_time": "2024-02-07T01:02:41.490012200Z",
     "start_time": "2024-02-07T01:02:41.309187500Z"
    }
   },
   "outputs": [
    {
     "name": "stdout",
     "output_type": "stream",
     "text": [
      "<class 'pandas.core.frame.DataFrame'>\n",
      "RangeIndex: 180519 entries, 0 to 180518\n",
      "Data columns (total 53 columns):\n",
      " #   Column                         Non-Null Count   Dtype  \n",
      "---  ------                         --------------   -----  \n",
      " 0   Type                           180519 non-null  object \n",
      " 1   Days for shipping (real)       180519 non-null  int64  \n",
      " 2   Days for shipment (scheduled)  180519 non-null  int64  \n",
      " 3   Benefit per order              180519 non-null  float64\n",
      " 4   Sales per customer             180519 non-null  float64\n",
      " 5   Delivery Status                180519 non-null  object \n",
      " 6   Late_delivery_risk             180519 non-null  int64  \n",
      " 7   Category Id                    180519 non-null  int64  \n",
      " 8   Category Name                  180519 non-null  object \n",
      " 9   Customer City                  180519 non-null  object \n",
      " 10  Customer Country               180519 non-null  object \n",
      " 11  Customer Email                 180519 non-null  object \n",
      " 12  Customer Fname                 180519 non-null  object \n",
      " 13  Customer Id                    180519 non-null  int64  \n",
      " 14  Customer Lname                 180511 non-null  object \n",
      " 15  Customer Password              180519 non-null  object \n",
      " 16  Customer Segment               180519 non-null  object \n",
      " 17  Customer State                 180519 non-null  object \n",
      " 18  Customer Street                180519 non-null  object \n",
      " 19  Customer Zipcode               180516 non-null  float64\n",
      " 20  Department Id                  180519 non-null  int64  \n",
      " 21  Department Name                180519 non-null  object \n",
      " 22  Latitude                       180519 non-null  float64\n",
      " 23  Longitude                      180519 non-null  float64\n",
      " 24  Market                         180519 non-null  object \n",
      " 25  Order City                     180519 non-null  object \n",
      " 26  Order Country                  180519 non-null  object \n",
      " 27  Order Customer Id              180519 non-null  int64  \n",
      " 28  order date (DateOrders)        180519 non-null  object \n",
      " 29  Order Id                       180519 non-null  int64  \n",
      " 30  Order Item Cardprod Id         180519 non-null  int64  \n",
      " 31  Order Item Discount            180519 non-null  float64\n",
      " 32  Order Item Discount Rate       180519 non-null  float64\n",
      " 33  Order Item Id                  180519 non-null  int64  \n",
      " 34  Order Item Product Price       180519 non-null  float64\n",
      " 35  Order Item Profit Ratio        180519 non-null  float64\n",
      " 36  Order Item Quantity            180519 non-null  int64  \n",
      " 37  Sales                          180519 non-null  float64\n",
      " 38  Order Item Total               180519 non-null  float64\n",
      " 39  Order Profit Per Order         180519 non-null  float64\n",
      " 40  Order Region                   180519 non-null  object \n",
      " 41  Order State                    180519 non-null  object \n",
      " 42  Order Status                   180519 non-null  object \n",
      " 43  Order Zipcode                  24840 non-null   float64\n",
      " 44  Product Card Id                180519 non-null  int64  \n",
      " 45  Product Category Id            180519 non-null  int64  \n",
      " 46  Product Description            0 non-null       float64\n",
      " 47  Product Image                  180519 non-null  object \n",
      " 48  Product Name                   180519 non-null  object \n",
      " 49  Product Price                  180519 non-null  float64\n",
      " 50  Product Status                 180519 non-null  int64  \n",
      " 51  shipping date (DateOrders)     180519 non-null  object \n",
      " 52  Shipping Mode                  180519 non-null  object \n",
      "dtypes: float64(15), int64(14), object(24)\n",
      "memory usage: 73.0+ MB\n"
     ]
    }
   ],
   "source": [
    "data.info()"
   ]
  },
  {
   "cell_type": "code",
   "execution_count": 56,
   "id": "2ec58e56202d646",
   "metadata": {
    "collapsed": false,
    "ExecuteTime": {
     "end_time": "2024-02-07T01:02:41.530907800Z",
     "start_time": "2024-02-07T01:02:41.500346800Z"
    }
   },
   "outputs": [
    {
     "data": {
      "text/plain": "Type                              object\nDays for shipping (real)           int64\nDays for shipment (scheduled)      int64\nBenefit per order                float64\nSales per customer               float64\nDelivery Status                   object\nLate_delivery_risk                 int64\nCategory Id                        int64\nCategory Name                     object\nCustomer City                     object\nCustomer Country                  object\nCustomer Email                    object\nCustomer Fname                    object\nCustomer Id                        int64\nCustomer Lname                    object\nCustomer Password                 object\nCustomer Segment                  object\nCustomer State                    object\nCustomer Street                   object\nCustomer Zipcode                 float64\nDepartment Id                      int64\nDepartment Name                   object\nLatitude                         float64\nLongitude                        float64\nMarket                            object\nOrder City                        object\nOrder Country                     object\nOrder Customer Id                  int64\norder date (DateOrders)           object\nOrder Id                           int64\nOrder Item Cardprod Id             int64\nOrder Item Discount              float64\nOrder Item Discount Rate         float64\nOrder Item Id                      int64\nOrder Item Product Price         float64\nOrder Item Profit Ratio          float64\nOrder Item Quantity                int64\nSales                            float64\nOrder Item Total                 float64\nOrder Profit Per Order           float64\nOrder Region                      object\nOrder State                       object\nOrder Status                      object\nOrder Zipcode                    float64\nProduct Card Id                    int64\nProduct Category Id                int64\nProduct Description              float64\nProduct Image                     object\nProduct Name                      object\nProduct Price                    float64\nProduct Status                     int64\nshipping date (DateOrders)        object\nShipping Mode                     object\ndtype: object"
     },
     "execution_count": 56,
     "metadata": {},
     "output_type": "execute_result"
    }
   ],
   "source": [
    "data.dtypes"
   ]
  },
  {
   "cell_type": "code",
   "execution_count": 57,
   "id": "62c54c4876cc8c28",
   "metadata": {
    "collapsed": false,
    "ExecuteTime": {
     "end_time": "2024-02-07T01:02:41.621606200Z",
     "start_time": "2024-02-07T01:02:41.507959Z"
    }
   },
   "outputs": [
    {
     "data": {
      "text/plain": "Type\nDEBIT       69295\nTRANSFER    49883\nPAYMENT     41725\nCASH        19616\nName: count, dtype: int64"
     },
     "execution_count": 57,
     "metadata": {},
     "output_type": "execute_result"
    }
   ],
   "source": [
    "data.Type.value_counts()\n"
   ]
  },
  {
   "cell_type": "code",
   "execution_count": 58,
   "id": "b59a2c52fc8c30a6",
   "metadata": {
    "collapsed": false,
    "ExecuteTime": {
     "end_time": "2024-02-07T01:02:41.622751800Z",
     "start_time": "2024-02-07T01:02:41.544232700Z"
    }
   },
   "outputs": [
    {
     "data": {
      "text/plain": "(180519, 53)"
     },
     "execution_count": 58,
     "metadata": {},
     "output_type": "execute_result"
    }
   ],
   "source": [
    "data.shape"
   ]
  },
  {
   "cell_type": "code",
   "execution_count": 59,
   "id": "3bb101f81ee2c6cb",
   "metadata": {
    "collapsed": false,
    "ExecuteTime": {
     "end_time": "2024-02-07T01:02:41.764927Z",
     "start_time": "2024-02-07T01:02:41.555997200Z"
    }
   },
   "outputs": [
    {
     "data": {
      "text/plain": "Type                                  0\nDays for shipping (real)              0\nDays for shipment (scheduled)         0\nBenefit per order                     0\nSales per customer                    0\nDelivery Status                       0\nLate_delivery_risk                    0\nCategory Id                           0\nCategory Name                         0\nCustomer City                         0\nCustomer Country                      0\nCustomer Email                        0\nCustomer Fname                        0\nCustomer Id                           0\nCustomer Lname                        8\nCustomer Password                     0\nCustomer Segment                      0\nCustomer State                        0\nCustomer Street                       0\nCustomer Zipcode                      3\nDepartment Id                         0\nDepartment Name                       0\nLatitude                              0\nLongitude                             0\nMarket                                0\nOrder City                            0\nOrder Country                         0\nOrder Customer Id                     0\norder date (DateOrders)               0\nOrder Id                              0\nOrder Item Cardprod Id                0\nOrder Item Discount                   0\nOrder Item Discount Rate              0\nOrder Item Id                         0\nOrder Item Product Price              0\nOrder Item Profit Ratio               0\nOrder Item Quantity                   0\nSales                                 0\nOrder Item Total                      0\nOrder Profit Per Order                0\nOrder Region                          0\nOrder State                           0\nOrder Status                          0\nOrder Zipcode                    155679\nProduct Card Id                       0\nProduct Category Id                   0\nProduct Description              180519\nProduct Image                         0\nProduct Name                          0\nProduct Price                         0\nProduct Status                        0\nshipping date (DateOrders)            0\nShipping Mode                         0\ndtype: int64"
     },
     "execution_count": 59,
     "metadata": {},
     "output_type": "execute_result"
    }
   ],
   "source": [
    "data.isnull().sum()\n"
   ]
  },
  {
   "cell_type": "code",
   "execution_count": 59,
   "id": "e3130246304ff8d5",
   "metadata": {
    "collapsed": false,
    "ExecuteTime": {
     "end_time": "2024-02-07T01:02:41.806857500Z",
     "start_time": "2024-02-07T01:02:41.758338400Z"
    }
   },
   "outputs": [],
   "source": []
  },
  {
   "cell_type": "code",
   "execution_count": 60,
   "id": "7d64afd84ef9f11e",
   "metadata": {
    "collapsed": false,
    "ExecuteTime": {
     "end_time": "2024-02-07T01:02:41.806857500Z",
     "start_time": "2024-02-07T01:02:41.774813Z"
    }
   },
   "outputs": [
    {
     "data": {
      "text/plain": "Series([], Name: count, dtype: int64)"
     },
     "execution_count": 60,
     "metadata": {},
     "output_type": "execute_result"
    }
   ],
   "source": [
    "data['Product Description'].value_counts()"
   ]
  },
  {
   "cell_type": "code",
   "execution_count": 61,
   "id": "5cb256526394777b",
   "metadata": {
    "collapsed": false,
    "ExecuteTime": {
     "end_time": "2024-02-07T01:02:41.854847900Z",
     "start_time": "2024-02-07T01:02:41.799332700Z"
    }
   },
   "outputs": [
    {
     "data": {
      "text/plain": "Index(['Type', 'Days for shipping (real)', 'Days for shipment (scheduled)',\n       'Benefit per order', 'Sales per customer', 'Delivery Status',\n       'Late_delivery_risk', 'Category Id', 'Category Name', 'Customer City',\n       'Customer Country', 'Customer Email', 'Customer Fname', 'Customer Id',\n       'Customer Lname', 'Customer Password', 'Customer Segment',\n       'Customer State', 'Customer Street', 'Customer Zipcode',\n       'Department Id', 'Department Name', 'Latitude', 'Longitude', 'Market',\n       'Order City', 'Order Country', 'Order Customer Id',\n       'order date (DateOrders)', 'Order Id', 'Order Item Cardprod Id',\n       'Order Item Discount', 'Order Item Discount Rate', 'Order Item Id',\n       'Order Item Product Price', 'Order Item Profit Ratio',\n       'Order Item Quantity', 'Sales', 'Order Item Total',\n       'Order Profit Per Order', 'Order Region', 'Order State', 'Order Status',\n       'Order Zipcode', 'Product Card Id', 'Product Category Id',\n       'Product Description', 'Product Image', 'Product Name', 'Product Price',\n       'Product Status', 'shipping date (DateOrders)', 'Shipping Mode'],\n      dtype='object')"
     },
     "execution_count": 61,
     "metadata": {},
     "output_type": "execute_result"
    }
   ],
   "source": [
    "data.columns"
   ]
  },
  {
   "cell_type": "code",
   "execution_count": 62,
   "id": "ffba4dbf878da43d",
   "metadata": {
    "collapsed": false,
    "ExecuteTime": {
     "end_time": "2024-02-07T01:02:41.874629300Z",
     "start_time": "2024-02-07T01:02:41.815934900Z"
    }
   },
   "outputs": [
    {
     "data": {
      "text/plain": "Late_delivery_risk\n1    98977\n0    81542\nName: count, dtype: int64"
     },
     "execution_count": 62,
     "metadata": {},
     "output_type": "execute_result"
    }
   ],
   "source": [
    "data['Late_delivery_risk'].value_counts()"
   ]
  },
  {
   "cell_type": "code",
   "execution_count": 63,
   "id": "912de6e7e00660a4",
   "metadata": {
    "collapsed": false,
    "ExecuteTime": {
     "end_time": "2024-02-07T01:02:41.985921300Z",
     "start_time": "2024-02-07T01:02:41.832288600Z"
    }
   },
   "outputs": [
    {
     "data": {
      "text/plain": "Order Item Discount\n0.000000      10028\n6.000000       4589\n12.000000      4067\n4.000000       3647\n8.000000       3626\n              ...  \n23.750000         1\n96.000000         1\n400.000000        1\n31.980000         1\n61.189999         1\nName: count, Length: 1017, dtype: int64"
     },
     "execution_count": 63,
     "metadata": {},
     "output_type": "execute_result"
    }
   ],
   "source": [
    "data['Order Item Discount'].value_counts()\n"
   ]
  },
  {
   "cell_type": "code",
   "execution_count": 64,
   "id": "30232af426b0c157",
   "metadata": {
    "collapsed": false,
    "ExecuteTime": {
     "end_time": "2024-02-07T01:02:59.513737400Z",
     "start_time": "2024-02-07T01:02:41.863073500Z"
    }
   },
   "outputs": [
    {
     "data": {
      "text/plain": "<Axes: xlabel='Sales', ylabel='Order Item Discount'>"
     },
     "execution_count": 64,
     "metadata": {},
     "output_type": "execute_result"
    },
    {
     "data": {
      "text/plain": "<Figure size 640x480 with 1 Axes>",
      "image/png": "[encoded data removed]"
     },
     "metadata": {},
     "output_type": "display_data"
    }
   ],
   "source": [
    "import seaborn as sns\n",
    "sns.regplot(x= 'Sales', y = 'Order Item Discount'  , data = data)\n"
   ]
  },
  {
   "cell_type": "code",
   "execution_count": 65,
   "id": "4c5dad89ef156078",
   "metadata": {
    "collapsed": false,
    "ExecuteTime": {
     "end_time": "2024-02-07T01:03:00.576929100Z",
     "start_time": "2024-02-07T01:02:59.518850100Z"
    }
   },
   "outputs": [
    {
     "name": "stderr",
     "output_type": "stream",
     "text": [
      "C:\\Users\\Dell\\IdeaProjects\\machine learning\\venv\\lib\\site-packages\\pandas\\core\\arraylike.py:396: RuntimeWarning: invalid value encountered in sqrt\n",
      "  result = getattr(ufunc, method)(*inputs, **kwargs)\n"
     ]
    },
    {
     "name": "stdout",
     "output_type": "stream",
     "text": [
      "Corrélations avec la colonne 'Sales' après transformation:\n",
      "Sales                            1.000000\n",
      "Sales per customer               0.991526\n",
      "Order Item Total                 0.991526\n",
      "Product Price                    0.718085\n",
      "Order Item Product Price         0.718085\n",
      "Benefit per order                0.707376\n",
      "Order Profit Per Order           0.707376\n",
      "Order Item Discount              0.560583\n",
      "Department Id                    0.193182\n",
      "Product Card Id                  0.189827\n",
      "Order Item Cardprod Id           0.189827\n",
      "Product Category Id              0.180924\n",
      "Category Id                      0.180924\n",
      "Order Item Quantity              0.140432\n",
      "Order Item Id                    0.046079\n",
      "Order Id                         0.045860\n",
      "Order Customer Id                0.020273\n",
      "Customer Id                      0.020273\n",
      "Days for shipment (scheduled)    0.005451\n",
      "Order Item Profit Ratio          0.001746\n",
      "Days for shipping (real)         0.001498\n",
      "Order Item Discount Rate         0.000189\n",
      "Order Zipcode                   -0.000938\n",
      "Latitude                        -0.001149\n",
      "Customer Zipcode                -0.001482\n",
      "Late_delivery_risk              -0.003270\n",
      "Longitude                       -0.023335\n",
      "Product Description                   NaN\n",
      "Product Status                        NaN\n",
      "Name: Sales, dtype: float64\n"
     ]
    },
    {
     "data": {
      "text/plain": "<Figure size 1400x800 with 1 Axes>",
      "image/png": "[encoded data removed]"
     },
     "metadata": {},
     "output_type": "display_data"
    }
   ],
   "source": [
    "import matplotlib.pyplot as plt\n",
    "import numpy as np\n",
    "\n",
    "# Vérification des types de données\n",
    "data.dtypes\n",
    "\n",
    "# Sélection des colonnes numériques\n",
    "numeric_columns = data.select_dtypes(include=[np.number]).columns\n",
    "\n",
    "# Appliquer la racine carrée aux colonnes numériques\n",
    "data[numeric_columns] = data[numeric_columns].apply(lambda x: np.sqrt(x) if np.issubdtype(x.dtype, np.number) else x)\n",
    "\n",
    "# Calcul des corrélations avec la colonne \"Sales\" pour les colonnes numériques\n",
    "correlations_with_sales = (data[numeric_columns]\n",
    "                           .corr()['Sales']\n",
    "                           .sort_values(ascending=False))\n",
    "\n",
    "# Affichage des corrélations\n",
    "print(\"Corrélations avec la colonne 'Sales' après transformation:\")\n",
    "print(correlations_with_sales)\n",
    "\n",
    "# Visualisation des corrélations avec un barplot\n",
    "plt.figure(figsize=(14, 8))\n",
    "correlations_with_sales.drop('Sales').plot(kind='bar', color='skyblue')\n",
    "plt.title('Corrélations avec la colonne Sales après transformation')\n",
    "plt.xlabel('Variables')\n",
    "plt.ylabel('Coefficient de corrélation')\n",
    "plt.show()\n"
   ]
  },
  {
   "cell_type": "code",
   "execution_count": 66,
   "id": "4402447213d93a6f",
   "metadata": {
    "collapsed": false,
    "ExecuteTime": {
     "end_time": "2024-02-07T01:03:01.880909800Z",
     "start_time": "2024-02-07T01:03:00.580697Z"
    }
   },
   "outputs": [
    {
     "name": "stdout",
     "output_type": "stream",
     "text": [
      "Colonnes de type object avant l'encodage :\n",
      "       Type   Delivery Status   Category Name Customer City Customer Country  \\\n",
      "0     DEBIT  Advance shipping  Sporting Goods        Caguas      Puerto Rico   \n",
      "1  TRANSFER     Late delivery  Sporting Goods        Caguas      Puerto Rico   \n",
      "2      CASH  Shipping on time  Sporting Goods      San Jose          EE. UU.   \n",
      "3     DEBIT  Advance shipping  Sporting Goods   Los Angeles          EE. UU.   \n",
      "4   PAYMENT  Advance shipping  Sporting Goods        Caguas      Puerto Rico   \n",
      "\n",
      "  Customer Email Customer Fname Customer Lname Customer Password  \\\n",
      "0      XXXXXXXXX          Cally       Holloway         XXXXXXXXX   \n",
      "1      XXXXXXXXX          Irene           Luna         XXXXXXXXX   \n",
      "2      XXXXXXXXX        Gillian      Maldonado         XXXXXXXXX   \n",
      "3      XXXXXXXXX           Tana           Tate         XXXXXXXXX   \n",
      "4      XXXXXXXXX           Orli      Hendricks         XXXXXXXXX   \n",
      "\n",
      "  Customer Segment  ...  Order City Order Country order date (DateOrders)  \\\n",
      "0         Consumer  ...      Bekasi     Indonesia         1/31/2018 22:56   \n",
      "1         Consumer  ...     Bikaner         India         1/13/2018 12:27   \n",
      "2         Consumer  ...     Bikaner         India         1/13/2018 12:06   \n",
      "3      Home Office  ...  Townsville     Australia         1/13/2018 11:45   \n",
      "4        Corporate  ...  Townsville     Australia         1/13/2018 11:24   \n",
      "\n",
      "     Order Region      Order State     Order Status  \\\n",
      "0  Southeast Asia  Java Occidental         COMPLETE   \n",
      "1      South Asia         Rajastán          PENDING   \n",
      "2      South Asia         Rajastán           CLOSED   \n",
      "3         Oceania       Queensland         COMPLETE   \n",
      "4         Oceania       Queensland  PENDING_PAYMENT   \n",
      "\n",
      "                                  Product Image  Product Name  \\\n",
      "0  http://images.acmesports.sports/Smart+watch   Smart watch    \n",
      "1  http://images.acmesports.sports/Smart+watch   Smart watch    \n",
      "2  http://images.acmesports.sports/Smart+watch   Smart watch    \n",
      "3  http://images.acmesports.sports/Smart+watch   Smart watch    \n",
      "4  http://images.acmesports.sports/Smart+watch   Smart watch    \n",
      "\n",
      "  shipping date (DateOrders)   Shipping Mode  \n",
      "0             2/3/2018 22:56  Standard Class  \n",
      "1            1/18/2018 12:27  Standard Class  \n",
      "2            1/17/2018 12:06  Standard Class  \n",
      "3            1/16/2018 11:45  Standard Class  \n",
      "4            1/15/2018 11:24  Standard Class  \n",
      "\n",
      "[5 rows x 24 columns]\n",
      "\n",
      "Colonnes devenues catégoriques après l'encodage :\n"
     ]
    },
    {
     "data": {
      "text/plain": "   Type  Delivery Status  Category Name  Customer City  Customer Country  \\\n0     1                0             40             66                 1   \n1     3                1             40             66                 1   \n2     0                3             40            452                 0   \n3     1                0             40            285                 0   \n4     2                0             40             66                 1   \n\n   Customer Email  Customer Fname  Customer Lname  Customer Password  \\\n0               0             109             482                  0   \n1               0             311             615                  0   \n2               0             249             626                  0   \n3               0             707             989                  0   \n4               0             570             454                  0   \n\n   Customer Segment  ...  Order City  Order Country  order date (DateOrders)  \\\n0                 0  ...         331             70                     5961   \n1                 0  ...         391             69                     1147   \n2                 0  ...         391             69                     1146   \n3                 2  ...        3226              8                     1145   \n4                 1  ...        3226              8                     1144   \n\n   Order Region  Order State  Order Status  Product Image  Product Name  \\\n0            15          475             2             78            78   \n1            13          841             5             78            78   \n2            13          841             1             78            78   \n3            11          835             2             78            78   \n4            11          835             6             78            78   \n\n   shipping date (DateOrders)  Shipping Mode  \n0                       27149              3  \n1                        2209              3  \n2                        1980              3  \n3                        1752              3  \n4                        1528              3  \n\n[5 rows x 24 columns]",
      "text/html": "<div>\n<style scoped>\n    .dataframe tbody tr th:only-of-type {\n        vertical-align: middle;\n    }\n\n    .dataframe tbody tr th {\n        vertical-align: top;\n    }\n\n    .dataframe thead th {\n        text-align: right;\n    }\n</style>\n<table border=\"1\" class=\"dataframe\">\n  <thead>\n    <tr style=\"text-align: right;\">\n      <th></th>\n      <th>Type</th>\n      <th>Delivery Status</th>\n      <th>Category Name</th>\n      <th>Customer City</th>\n      <th>Customer Country</th>\n      <th>Customer Email</th>\n      <th>Customer Fname</th>\n      <th>Customer Lname</th>\n      <th>Customer Password</th>\n      <th>Customer Segment</th>\n      <th>...</th>\n      <th>Order City</th>\n      <th>Order Country</th>\n      <th>order date (DateOrders)</th>\n      <th>Order Region</th>\n      <th>Order State</th>\n      <th>Order Status</th>\n      <th>Product Image</th>\n      <th>Product Name</th>\n      <th>shipping date (DateOrders)</th>\n      <th>Shipping Mode</th>\n    </tr>\n  </thead>\n  <tbody>\n    <tr>\n      <th>0</th>\n      <td>1</td>\n      <td>0</td>\n      <td>40</td>\n      <td>66</td>\n      <td>1</td>\n      <td>0</td>\n      <td>109</td>\n      <td>482</td>\n      <td>0</td>\n      <td>0</td>\n      <td>...</td>\n      <td>331</td>\n      <td>70</td>\n      <td>5961</td>\n      <td>15</td>\n      <td>475</td>\n      <td>2</td>\n      <td>78</td>\n      <td>78</td>\n      <td>27149</td>\n      <td>3</td>\n    </tr>\n    <tr>\n      <th>1</th>\n      <td>3</td>\n      <td>1</td>\n      <td>40</td>\n      <td>66</td>\n      <td>1</td>\n      <td>0</td>\n      <td>311</td>\n      <td>615</td>\n      <td>0</td>\n      <td>0</td>\n      <td>...</td>\n      <td>391</td>\n      <td>69</td>\n      <td>1147</td>\n      <td>13</td>\n      <td>841</td>\n      <td>5</td>\n      <td>78</td>\n      <td>78</td>\n      <td>2209</td>\n      <td>3</td>\n    </tr>\n    <tr>\n      <th>2</th>\n      <td>0</td>\n      <td>3</td>\n      <td>40</td>\n      <td>452</td>\n      <td>0</td>\n      <td>0</td>\n      <td>249</td>\n      <td>626</td>\n      <td>0</td>\n      <td>0</td>\n      <td>...</td>\n      <td>391</td>\n      <td>69</td>\n      <td>1146</td>\n      <td>13</td>\n      <td>841</td>\n      <td>1</td>\n      <td>78</td>\n      <td>78</td>\n      <td>1980</td>\n      <td>3</td>\n    </tr>\n    <tr>\n      <th>3</th>\n      <td>1</td>\n      <td>0</td>\n      <td>40</td>\n      <td>285</td>\n      <td>0</td>\n      <td>0</td>\n      <td>707</td>\n      <td>989</td>\n      <td>0</td>\n      <td>2</td>\n      <td>...</td>\n      <td>3226</td>\n      <td>8</td>\n      <td>1145</td>\n      <td>11</td>\n      <td>835</td>\n      <td>2</td>\n      <td>78</td>\n      <td>78</td>\n      <td>1752</td>\n      <td>3</td>\n    </tr>\n    <tr>\n      <th>4</th>\n      <td>2</td>\n      <td>0</td>\n      <td>40</td>\n      <td>66</td>\n      <td>1</td>\n      <td>0</td>\n      <td>570</td>\n      <td>454</td>\n      <td>0</td>\n      <td>1</td>\n      <td>...</td>\n      <td>3226</td>\n      <td>8</td>\n      <td>1144</td>\n      <td>11</td>\n      <td>835</td>\n      <td>6</td>\n      <td>78</td>\n      <td>78</td>\n      <td>1528</td>\n      <td>3</td>\n    </tr>\n  </tbody>\n</table>\n<p>5 rows × 24 columns</p>\n</div>"
     },
     "execution_count": 66,
     "metadata": {},
     "output_type": "execute_result"
    }
   ],
   "source": [
    "from sklearn.preprocessing import LabelEncoder\n",
    "\n",
    "# Sélection des colonnes de type object\n",
    "object_columns = data.select_dtypes(include=['object']).columns\n",
    "\n",
    "# Stockage des colonnes qui étaient de type object avant l'encodage\n",
    "categorical_columns_before = data[object_columns]\n",
    "\n",
    "# Encodage des colonnes de type object avec LabelEncoder\n",
    "label_encoder = LabelEncoder()\n",
    "for column in object_columns:\n",
    "    data[column] = label_encoder.fit_transform(data[column])\n",
    "\n",
    "# Affichage des colonnes qui étaient de type object avant l'encodage\n",
    "print(\"Colonnes de type object avant l'encodage :\")\n",
    "print(categorical_columns_before.head())\n",
    "\n",
    "# Affichage des colonnes devenues catégoriques après l'encodage\n",
    "print(\"\\nColonnes devenues catégoriques après l'encodage :\")\n",
    "data[object_columns].head()\n"
   ]
  },
  {
   "cell_type": "code",
   "execution_count": 67,
   "outputs": [
    {
     "name": "stdout",
     "output_type": "stream",
     "text": [
      "Corrélations avec 'Sales' après transformation logarithmique:\n",
      "Type: 0.0040339130181990986\n",
      "Delivery Status: 4.218782832599859e-05\n",
      "Category Name: -0.29104504216795174\n",
      "Customer City: 0.0003888544917979792\n",
      "Customer Country: 0.001318763976697359\n",
      "Customer Email: nan\n",
      "Customer Fname: 0.003441719886306637\n",
      "Customer Lname: -0.0015956334808394602\n",
      "Customer Password: nan\n",
      "Customer Segment: -0.005330159440279496\n",
      "Customer State: 0.0030028888341812015\n",
      "Customer Street: 0.0012353145483731038\n",
      "Department Name: -0.07148375402793819\n",
      "Market: -0.036234889280260224\n",
      "Order City: -0.0037003721461641675\n",
      "Order Country: 0.006395107552114033\n",
      "order date (DateOrders): 0.02026381052500515\n",
      "Order Region: 0.012332944400530142\n",
      "Order State: -0.014361166646403804\n",
      "Order Status: 0.004885914269061218\n",
      "Product Image: -0.36521104730139375\n",
      "Product Name: -0.36521104730139375\n",
      "shipping date (DateOrders): 0.019039023508971922\n",
      "Shipping Mode: 0.0005769400231759297\n"
     ]
    },
    {
     "name": "stderr",
     "output_type": "stream",
     "text": [
      "C:\\Users\\Dell\\IdeaProjects\\machine learning\\venv\\lib\\site-packages\\scipy\\stats\\_stats_py.py:4781: ConstantInputWarning: An input array is constant; the correlation coefficient is not defined.\n",
      "  warnings.warn(stats.ConstantInputWarning(msg))\n"
     ]
    }
   ],
   "source": [
    "from scipy.stats import pointbiserialr\n",
    "import numpy as np\n",
    "\n",
    "data['Sales'] = np.log1p(data['Sales'])\n",
    "\n",
    "correlations = {}\n",
    "for column in object_columns:\n",
    "    correlation, _ = pointbiserialr(data[column], data['Sales'])\n",
    "    correlations[column] = correlation\n",
    "\n",
    "print(\"Corrélations avec 'Sales' après transformation logarithmique:\")\n",
    "for column, correlation in correlations.items():\n",
    "    print(f\"{column}: {correlation}\")\n"
   ],
   "metadata": {
    "collapsed": false,
    "ExecuteTime": {
     "end_time": "2024-02-07T01:03:02.088380400Z",
     "start_time": "2024-02-07T01:03:01.885804200Z"
    }
   },
   "id": "50e6a015bc239157"
  },
  {
   "cell_type": "code",
   "execution_count": 68,
   "id": "7a37532045153d9f",
   "metadata": {
    "collapsed": false,
    "ExecuteTime": {
     "end_time": "2024-02-07T01:03:05.379235400Z",
     "start_time": "2024-02-07T01:03:02.075906300Z"
    }
   },
   "outputs": [
    {
     "name": "stdout",
     "output_type": "stream",
     "text": [
      "\n",
      "Nouveau DataFrame avec les colonnes à garder :\n",
      "   Benefit per order  Sales per customer  Category Name  Order Item Discount  \\\n",
      "0           9.552487           17.738095             40             3.620773   \n",
      "1                NaN           17.645396             40             4.048456   \n",
      "2                NaN           17.598864             40             4.246175   \n",
      "3           4.781213           17.458809             40             4.789572   \n",
      "4          11.584904           17.269916             40             5.431390   \n",
      "\n",
      "   Order Item Product Price     Sales  Order Item Total  \\\n",
      "0                 18.103867  2.949891         17.738095   \n",
      "1                 18.103867  2.949891         17.645396   \n",
      "2                 18.103867  2.949891         17.598864   \n",
      "3                 18.103867  2.949891         17.458809   \n",
      "4                 18.103867  2.949891         17.269916   \n",
      "\n",
      "   Order Profit Per Order  Product Image  Product Name  Product Price  \n",
      "0                9.552487             78            78      18.103867  \n",
      "1                     NaN             78            78      18.103867  \n",
      "2                     NaN             78            78      18.103867  \n",
      "3                4.781213             78            78      18.103867  \n",
      "4               11.584904             78            78      18.103867  \n"
     ]
    }
   ],
   "source": [
    "import pandas as pd\n",
    "\n",
    "# Supprimer les colonnes qui ont la même valeur absolue de corrélation\n",
    "seuil_correlation = 0.2\n",
    "\n",
    "# Calculer la matrice de corrélation\n",
    "correlations = data.corr()\n",
    "\n",
    "# Filtrer les colonnes numériques avec une corrélation supérieure au seuil\n",
    "numeric_columns_to_keep = correlations['Sales'][abs(correlations['Sales']) > seuil_correlation].index.tolist()\n",
    "\n",
    "# Filtrer les colonnes catégoriques avec une corrélation supérieure au seuil\n",
    "categorical_columns_to_keep = [column for column, correlation in correlations['Sales'].items() if abs(correlation) > seuil_correlation and column not in numeric_columns_to_keep]\n",
    "\n",
    "# Concaténer les colonnes à garder\n",
    "columns_to_keep = numeric_columns_to_keep + categorical_columns_to_keep\n",
    "\n",
    "# Créer un nouveau DataFrame avec les colonnes à garder\n",
    "data_filtered = data[columns_to_keep]\n",
    "\n",
    "# Afficher les premières lignes du nouveau DataFrame\n",
    "print(\"\\nNouveau DataFrame avec les colonnes à garder :\")\n",
    "print(data_filtered.head())\n"
   ]
  },
  {
   "cell_type": "code",
   "execution_count": 69,
   "outputs": [],
   "source": [
    "data_filtered = data_filtered.drop([\"Order Item Product Price\", \"Sales per customer\"], axis=1)"
   ],
   "metadata": {
    "collapsed": false,
    "ExecuteTime": {
     "end_time": "2024-02-07T01:03:05.438832Z",
     "start_time": "2024-02-07T01:03:05.382325100Z"
    }
   },
   "id": "75cdc7e682b5d345"
  },
  {
   "cell_type": "code",
   "execution_count": 70,
   "outputs": [
    {
     "name": "stdout",
     "output_type": "stream",
     "text": [
      "\n",
      "Nouveau DataFrame sans les valeurs manquantes :\n"
     ]
    },
    {
     "data": {
      "text/plain": "   Benefit per order  Category Name  Order Item Discount     Sales  \\\n0           9.552487             40             3.620773  2.949891   \n3           4.781213             40             4.789572  2.949891   \n4          11.584904             40             5.431390  2.949891   \n5           4.310452             40             5.725382  2.949891   \n6           9.756024             40             6.271364  2.949891   \n\n   Order Item Total  Order Profit Per Order  Product Image  Product Name  \\\n0         17.738095                9.552487             78            78   \n3         17.458809                4.781213             78            78   \n4         17.269916               11.584904             78            78   \n5         17.174982                4.310452             78            78   \n6         16.982933                9.756024             78            78   \n\n   Product Price  \n0      18.103867  \n3      18.103867  \n4      18.103867  \n5      18.103867  \n6      18.103867  ",
      "text/html": "<div>\n<style scoped>\n    .dataframe tbody tr th:only-of-type {\n        vertical-align: middle;\n    }\n\n    .dataframe tbody tr th {\n        vertical-align: top;\n    }\n\n    .dataframe thead th {\n        text-align: right;\n    }\n</style>\n<table border=\"1\" class=\"dataframe\">\n  <thead>\n    <tr style=\"text-align: right;\">\n      <th></th>\n      <th>Benefit per order</th>\n      <th>Category Name</th>\n      <th>Order Item Discount</th>\n      <th>Sales</th>\n      <th>Order Item Total</th>\n      <th>Order Profit Per Order</th>\n      <th>Product Image</th>\n      <th>Product Name</th>\n      <th>Product Price</th>\n    </tr>\n  </thead>\n  <tbody>\n    <tr>\n      <th>0</th>\n      <td>9.552487</td>\n      <td>40</td>\n      <td>3.620773</td>\n      <td>2.949891</td>\n      <td>17.738095</td>\n      <td>9.552487</td>\n      <td>78</td>\n      <td>78</td>\n      <td>18.103867</td>\n    </tr>\n    <tr>\n      <th>3</th>\n      <td>4.781213</td>\n      <td>40</td>\n      <td>4.789572</td>\n      <td>2.949891</td>\n      <td>17.458809</td>\n      <td>4.781213</td>\n      <td>78</td>\n      <td>78</td>\n      <td>18.103867</td>\n    </tr>\n    <tr>\n      <th>4</th>\n      <td>11.584904</td>\n      <td>40</td>\n      <td>5.431390</td>\n      <td>2.949891</td>\n      <td>17.269916</td>\n      <td>11.584904</td>\n      <td>78</td>\n      <td>78</td>\n      <td>18.103867</td>\n    </tr>\n    <tr>\n      <th>5</th>\n      <td>4.310452</td>\n      <td>40</td>\n      <td>5.725382</td>\n      <td>2.949891</td>\n      <td>17.174982</td>\n      <td>4.310452</td>\n      <td>78</td>\n      <td>78</td>\n      <td>18.103867</td>\n    </tr>\n    <tr>\n      <th>6</th>\n      <td>9.756024</td>\n      <td>40</td>\n      <td>6.271364</td>\n      <td>2.949891</td>\n      <td>16.982933</td>\n      <td>9.756024</td>\n      <td>78</td>\n      <td>78</td>\n      <td>18.103867</td>\n    </tr>\n  </tbody>\n</table>\n</div>"
     },
     "execution_count": 70,
     "metadata": {},
     "output_type": "execute_result"
    }
   ],
   "source": [
    "data_filtered_no_missing = data_filtered.dropna()\n",
    "print(\"\\nNouveau DataFrame sans les valeurs manquantes :\")\n",
    "data_filtered_no_missing.head()\n"
   ],
   "metadata": {
    "collapsed": false,
    "ExecuteTime": {
     "end_time": "2024-02-07T01:03:05.480731100Z",
     "start_time": "2024-02-07T01:03:05.415604Z"
    }
   },
   "id": "4201a6da1c0a192f"
  },
  {
   "cell_type": "code",
   "execution_count": 71,
   "outputs": [
    {
     "name": "stdout",
     "output_type": "stream",
     "text": [
      "Nombre de valeurs manquantes par colonne :\n",
      "Benefit per order         33784\n",
      "Category Name                 0\n",
      "Order Item Discount           0\n",
      "Sales                         0\n",
      "Order Item Total              0\n",
      "Order Profit Per Order    33784\n",
      "Product Image                 0\n",
      "Product Name                  0\n",
      "Product Price                 0\n",
      "dtype: int64\n",
      "\n",
      "Nouveau DataFrame sans les valeurs manquantes :\n",
      "   Benefit per order  Category Name  Order Item Discount     Sales  \\\n",
      "0           9.552487             40             3.620773  2.949891   \n",
      "3           4.781213             40             4.789572  2.949891   \n",
      "4          11.584904             40             5.431390  2.949891   \n",
      "5           4.310452             40             5.725382  2.949891   \n",
      "6           9.756024             40             6.271364  2.949891   \n",
      "\n",
      "   Order Item Total  Order Profit Per Order  Product Image  Product Name  \\\n",
      "0         17.738095                9.552487             78            78   \n",
      "3         17.458809                4.781213             78            78   \n",
      "4         17.269916               11.584904             78            78   \n",
      "5         17.174982                4.310452             78            78   \n",
      "6         16.982933                9.756024             78            78   \n",
      "\n",
      "   Product Price  \n",
      "0      18.103867  \n",
      "3      18.103867  \n",
      "4      18.103867  \n",
      "5      18.103867  \n",
      "6      18.103867  \n"
     ]
    }
   ],
   "source": [
    "import pandas as pd\n",
    "\n",
    "# Afficher le nombre de valeurs manquantes par colonne\n",
    "missing_values_count = data_filtered.isnull().sum()\n",
    "\n",
    "# Afficher le résultat\n",
    "print(\"Nombre de valeurs manquantes par colonne :\")\n",
    "print(missing_values_count)\n",
    "\n",
    "# Supprimer les lignes contenant des valeurs manquantes\n",
    "data_filtered_no_missing = data_filtered.dropna()\n",
    "\n",
    "# Afficher le nouveau DataFrame sans les valeurs manquantes\n",
    "print(\"\\nNouveau DataFrame sans les valeurs manquantes :\")\n",
    "print(data_filtered_no_missing.head())\n"
   ],
   "metadata": {
    "collapsed": false,
    "ExecuteTime": {
     "end_time": "2024-02-07T01:03:05.575769900Z",
     "start_time": "2024-02-07T01:03:05.460712800Z"
    }
   },
   "id": "1d01f48a98ec0820"
  },
  {
   "cell_type": "code",
   "execution_count": 72,
   "outputs": [
    {
     "data": {
      "text/plain": "Benefit per order         0\nCategory Name             0\nOrder Item Discount       0\nSales                     0\nOrder Item Total          0\nOrder Profit Per Order    0\nProduct Image             0\nProduct Name              0\nProduct Price             0\ndtype: int64"
     },
     "execution_count": 72,
     "metadata": {},
     "output_type": "execute_result"
    }
   ],
   "source": [
    "data_filtered_no_missing.isnull().sum()"
   ],
   "metadata": {
    "collapsed": false,
    "ExecuteTime": {
     "end_time": "2024-02-07T01:03:05.626036200Z",
     "start_time": "2024-02-07T01:03:05.508355900Z"
    }
   },
   "id": "189c9ec8472607e9"
  },
  {
   "cell_type": "code",
   "execution_count": 73,
   "outputs": [
    {
     "name": "stdout",
     "output_type": "stream",
     "text": [
      "\n",
      "Nouveau DataFrame sans les valeurs dupliquées :\n",
      "   Benefit per order  Category Name  Order Item Discount     Sales  \\\n",
      "0           9.552487             40             3.620773  2.949891   \n",
      "3           4.781213             40             4.789572  2.949891   \n",
      "4          11.584904             40             5.431390  2.949891   \n",
      "5           4.310452             40             5.725382  2.949891   \n",
      "6           9.756024             40             6.271364  2.949891   \n",
      "\n",
      "   Order Item Total  Order Profit Per Order  Product Image  Product Name  \\\n",
      "0         17.738095                9.552487             78            78   \n",
      "3         17.458809                4.781213             78            78   \n",
      "4         17.269916               11.584904             78            78   \n",
      "5         17.174982                4.310452             78            78   \n",
      "6         16.982933                9.756024             78            78   \n",
      "\n",
      "   Product Price  \n",
      "0      18.103867  \n",
      "3      18.103867  \n",
      "4      18.103867  \n",
      "5      18.103867  \n",
      "6      18.103867  \n",
      "\n",
      "Nombre de lignes supprimées en raison des duplicatas : 99562\n"
     ]
    }
   ],
   "source": [
    "# Supprimer les lignes avec des valeurs dupliquées\n",
    "data_no_duplicates = data_filtered_no_missing.drop_duplicates()\n",
    "\n",
    "# Afficher les premières lignes du DataFrame sans les valeurs dupliquées\n",
    "print(\"\\nNouveau DataFrame sans les valeurs dupliquées :\")\n",
    "print(data_no_duplicates.head())\n",
    "\n",
    "# Afficher le nombre de lignes supprimées en raison des duplicatas\n",
    "removed_duplicates_count = len(data_filtered_no_missing) - len(data_no_duplicates)\n",
    "print(\"\\nNombre de lignes supprimées en raison des duplicatas :\", removed_duplicates_count)\n"
   ],
   "metadata": {
    "collapsed": false,
    "ExecuteTime": {
     "end_time": "2024-02-07T01:03:05.806843900Z",
     "start_time": "2024-02-07T01:03:05.540048Z"
    }
   },
   "id": "f77684c0ea50ebd6"
  },
  {
   "cell_type": "code",
   "execution_count": 74,
   "outputs": [
    {
     "name": "stdout",
     "output_type": "stream",
     "text": [
      "\n",
      "Nombre total de lignes restantes dans le DataFrame : 47173\n"
     ]
    }
   ],
   "source": [
    "# Afficher le nombre total de lignes restantes dans le DataFrame\n",
    "total_rows_remaining = data_no_duplicates.shape[0]\n",
    "print(\"\\nNombre total de lignes restantes dans le DataFrame :\", total_rows_remaining)\n"
   ],
   "metadata": {
    "collapsed": false,
    "ExecuteTime": {
     "end_time": "2024-02-07T01:03:05.815802700Z",
     "start_time": "2024-02-07T01:03:05.633373200Z"
    }
   },
   "id": "e21e79734b2d5c85"
  },
  {
   "cell_type": "code",
   "execution_count": 75,
   "outputs": [
    {
     "data": {
      "text/plain": "   Benefit per order  Category Name  Order Item Discount     Sales  \\\n0           9.552487             40             3.620773  2.949891   \n3           4.781213             40             4.789572  2.949891   \n4          11.584904             40             5.431390  2.949891   \n5           4.310452             40             5.725382  2.949891   \n6           9.756024             40             6.271364  2.949891   \n\n   Order Item Total  Order Profit Per Order  Product Image  Product Name  \\\n0         17.738095                9.552487             78            78   \n3         17.458809                4.781213             78            78   \n4         17.269916               11.584904             78            78   \n5         17.174982                4.310452             78            78   \n6         16.982933                9.756024             78            78   \n\n   Product Price  \n0      18.103867  \n3      18.103867  \n4      18.103867  \n5      18.103867  \n6      18.103867  ",
      "text/html": "<div>\n<style scoped>\n    .dataframe tbody tr th:only-of-type {\n        vertical-align: middle;\n    }\n\n    .dataframe tbody tr th {\n        vertical-align: top;\n    }\n\n    .dataframe thead th {\n        text-align: right;\n    }\n</style>\n<table border=\"1\" class=\"dataframe\">\n  <thead>\n    <tr style=\"text-align: right;\">\n      <th></th>\n      <th>Benefit per order</th>\n      <th>Category Name</th>\n      <th>Order Item Discount</th>\n      <th>Sales</th>\n      <th>Order Item Total</th>\n      <th>Order Profit Per Order</th>\n      <th>Product Image</th>\n      <th>Product Name</th>\n      <th>Product Price</th>\n    </tr>\n  </thead>\n  <tbody>\n    <tr>\n      <th>0</th>\n      <td>9.552487</td>\n      <td>40</td>\n      <td>3.620773</td>\n      <td>2.949891</td>\n      <td>17.738095</td>\n      <td>9.552487</td>\n      <td>78</td>\n      <td>78</td>\n      <td>18.103867</td>\n    </tr>\n    <tr>\n      <th>3</th>\n      <td>4.781213</td>\n      <td>40</td>\n      <td>4.789572</td>\n      <td>2.949891</td>\n      <td>17.458809</td>\n      <td>4.781213</td>\n      <td>78</td>\n      <td>78</td>\n      <td>18.103867</td>\n    </tr>\n    <tr>\n      <th>4</th>\n      <td>11.584904</td>\n      <td>40</td>\n      <td>5.431390</td>\n      <td>2.949891</td>\n      <td>17.269916</td>\n      <td>11.584904</td>\n      <td>78</td>\n      <td>78</td>\n      <td>18.103867</td>\n    </tr>\n    <tr>\n      <th>5</th>\n      <td>4.310452</td>\n      <td>40</td>\n      <td>5.725382</td>\n      <td>2.949891</td>\n      <td>17.174982</td>\n      <td>4.310452</td>\n      <td>78</td>\n      <td>78</td>\n      <td>18.103867</td>\n    </tr>\n    <tr>\n      <th>6</th>\n      <td>9.756024</td>\n      <td>40</td>\n      <td>6.271364</td>\n      <td>2.949891</td>\n      <td>16.982933</td>\n      <td>9.756024</td>\n      <td>78</td>\n      <td>78</td>\n      <td>18.103867</td>\n    </tr>\n  </tbody>\n</table>\n</div>"
     },
     "execution_count": 75,
     "metadata": {},
     "output_type": "execute_result"
    }
   ],
   "source": [
    "data_no_duplicates.head()"
   ],
   "metadata": {
    "collapsed": false,
    "ExecuteTime": {
     "end_time": "2024-02-07T01:03:05.817911100Z",
     "start_time": "2024-02-07T01:03:05.657338Z"
    }
   },
   "id": "1cde3e6b98135eb4"
  },
  {
   "cell_type": "code",
   "execution_count": 76,
   "outputs": [
    {
     "name": "stdout",
     "output_type": "stream",
     "text": [
      "Le fichier 'data_no_duplicates.xlsx' existe déjà. Aucune nouvelle sauvegarde nécessaire.\n"
     ]
    }
   ],
   "source": [
    "import os\n",
    "import openpyxl  # Ajoutez cette ligne pour importer le module openpyxl\n",
    "\n",
    "# Vérifier si le fichier existe déjà\n",
    "if not os.path.isfile('data_no_duplicates.xlsx'):\n",
    "    # Sauvegarder le DataFrame sans les duplicatas dans un fichier Excel\n",
    "    data_no_duplicates.to_excel('data_no_duplicates.xlsx', index=False)\n",
    "    print(\"Le fichier 'data_no_duplicates.xlsx' a été enregistré.\")\n",
    "else:\n",
    "    print(\"Le fichier 'data_no_duplicates.xlsx' existe déjà. Aucune nouvelle sauvegarde nécessaire.\")\n"
   ],
   "metadata": {
    "collapsed": false,
    "ExecuteTime": {
     "end_time": "2024-02-07T01:03:06.360635100Z",
     "start_time": "2024-02-07T01:03:05.676675200Z"
    }
   },
   "id": "75b0c872e0ad2e7e"
  },
  {
   "cell_type": "code",
   "execution_count": 77,
   "outputs": [
    {
     "name": "stdout",
     "output_type": "stream",
     "text": [
      "\n",
      "Erreur quadratique moyenne (MSE) sur l'ensemble de test : 1.7977974127200467e-06\n"
     ]
    }
   ],
   "source": [
    "from sklearn.model_selection import train_test_split\n",
    "from sklearn.ensemble import RandomForestRegressor\n",
    "from sklearn.metrics import mean_squared_error\n",
    "\n",
    "# Assurez-vous d'avoir une colonne cible 'Sales' dans votre dataset\n",
    "X = data_no_duplicates.drop('Sales', axis=1)\n",
    "y = data_no_duplicates['Sales']\n",
    "\n",
    "# Diviser le dataset en ensembles d'entraînement et de test\n",
    "X_train, X_test, y_train, y_test = train_test_split(X, y, test_size=0.2, random_state=42)\n",
    "\n",
    "# Initialiser le modèle Random Forest\n",
    "random_forest_model = RandomForestRegressor(n_estimators=100, random_state=42)\n",
    "\n",
    "# Entraîner le modèle sur l'ensemble d'entraînement\n",
    "random_forest_model.fit(X_train, y_train)\n",
    "\n",
    "# Prédire les valeurs sur l'ensemble de test\n",
    "y_pred = random_forest_model.predict(X_test)\n",
    "\n",
    "# Calculer l'erreur quadratique moyenne (MSE)\n",
    "mse = mean_squared_error(y_test, y_pred)\n",
    "print(f\"\\nErreur quadratique moyenne (MSE) sur l'ensemble de test : {mse}\")\n",
    "\n"
   ],
   "metadata": {
    "collapsed": false,
    "ExecuteTime": {
     "end_time": "2024-02-07T01:03:38.647515600Z",
     "start_time": "2024-02-07T01:03:06.363696100Z"
    }
   },
   "id": "1bce58e3a1bf4e1f"
  },
  {
   "cell_type": "code",
   "execution_count": 78,
   "outputs": [
    {
     "name": "stdout",
     "output_type": "stream",
     "text": [
      "Coefficient de détermination (R²) : 0.999986996712226\n"
     ]
    }
   ],
   "source": [
    "from sklearn.metrics import r2_score\n",
    "r2 = r2_score(y_test, y_pred)\n",
    "print(f\"Coefficient de détermination (R²) : {r2}\")\n"
   ],
   "metadata": {
    "collapsed": false,
    "ExecuteTime": {
     "end_time": "2024-02-07T01:03:38.734596Z",
     "start_time": "2024-02-07T01:03:38.648476200Z"
    }
   },
   "id": "60714efc2974dd9e"
  },
  {
   "cell_type": "code",
   "execution_count": 79,
   "outputs": [
    {
     "name": "stdout",
     "output_type": "stream",
     "text": [
      "Erreur absolue moyenne (MAE) : 0.00013163072776576352\n"
     ]
    }
   ],
   "source": [
    "from sklearn.metrics import mean_absolute_error\n",
    "mae = mean_absolute_error(y_test, y_pred)\n",
    "print(f\"Erreur absolue moyenne (MAE) : {mae}\")\n"
   ],
   "metadata": {
    "collapsed": false,
    "ExecuteTime": {
     "end_time": "2024-02-07T01:03:38.745662800Z",
     "start_time": "2024-02-07T01:03:38.671265500Z"
    }
   },
   "id": "282baa3c647977ed"
  },
  {
   "cell_type": "code",
   "execution_count": 80,
   "outputs": [
    {
     "name": "stdout",
     "output_type": "stream",
     "text": [
      "\n",
      "Erreur quadratique moyenne (MSE) sur l'ensemble de test : 0.009585932248773563\n",
      "Coefficient de détermination (R²) : 0.9306659166762217\n",
      "Erreur absolue moyenne (MAE) : 0.061125521715274\n"
     ]
    }
   ],
   "source": [
    "from sklearn.model_selection import train_test_split\n",
    "from sklearn.linear_model import LinearRegression\n",
    "from sklearn.metrics import mean_squared_error\n",
    "\n",
    "# Assurez-vous d'avoir une colonne cible 'Sales' dans votre dataset\n",
    "X = data_no_duplicates.drop('Sales', axis=1)\n",
    "y = data_no_duplicates['Sales']\n",
    "\n",
    "# Diviser le dataset en ensembles d'entraînement et de test\n",
    "X_train, X_test, y_train, y_test = train_test_split(X, y, test_size=0.2, random_state=42)\n",
    "\n",
    "# Initialiser le modèle de régression linéaire\n",
    "linear_model = LinearRegression()\n",
    "\n",
    "# Entraîner le modèle sur l'ensemble d'entraînement\n",
    "linear_model.fit(X_train, y_train)\n",
    "\n",
    "# Prédire les valeurs sur l'ensemble de test\n",
    "y_pred = linear_model.predict(X_test)\n",
    "\n",
    "# Calculer l'erreur quadratique moyenne (MSE)\n",
    "mse = mean_squared_error(y_test, y_pred)\n",
    "print(f\"\\nErreur quadratique moyenne (MSE) sur l'ensemble de test : {mse}\")\n",
    "r2 = r2_score(y_test, y_pred)\n",
    "print(f\"Coefficient de détermination (R²) : {r2}\")\n",
    "mae = mean_absolute_error(y_test, y_pred)\n",
    "print(f\"Erreur absolue moyenne (MAE) : {mae}\")\n"
   ],
   "metadata": {
    "collapsed": false,
    "ExecuteTime": {
     "end_time": "2024-02-07T01:03:38.745662800Z",
     "start_time": "2024-02-07T01:03:38.695559Z"
    }
   },
   "id": "baea716514a1147"
  },
  {
   "cell_type": "code",
   "execution_count": 81,
   "outputs": [
    {
     "name": "stdout",
     "output_type": "stream",
     "text": [
      "\n",
      "Erreur quadratique moyenne (MSE) sur l'ensemble de test : 0.0032000354657707583\n",
      "Coefficient de détermination (R²) : 0.9768544654953949\n",
      "Erreur absolue moyenne (MAE) : 0.04950838710433243\n"
     ]
    }
   ],
   "source": [
    "from sklearn.svm import SVR\n",
    "from sklearn.metrics import mean_squared_error, r2_score, mean_absolute_error\n",
    "from sklearn.model_selection import train_test_split\n",
    "import pandas as pd\n",
    "\n",
    "# Assurez-vous d'avoir une colonne cible 'Sales' dans votre dataset\n",
    "X = data_no_duplicates.drop('Sales', axis=1)\n",
    "y = data_no_duplicates['Sales']\n",
    "\n",
    "# Diviser le dataset en ensembles d'entraînement et de test\n",
    "X_train, X_test, y_train, y_test = train_test_split(X, y, test_size=0.2, random_state=42)\n",
    "\n",
    "# Initialiser le modèle SVM pour la régression\n",
    "svm_model = SVR(kernel='rbf')  # Vous pouvez choisir le noyau approprié pour votre problème\n",
    "\n",
    "# Entraîner le modèle sur l'ensemble d'entraînement\n",
    "svm_model.fit(X_train, y_train)\n",
    "\n",
    "# Prédire les valeurs sur l'ensemble de test\n",
    "y_pred = svm_model.predict(X_test)\n",
    "\n",
    "# Calculer les métriques d'évaluation\n",
    "mse = mean_squared_error(y_test, y_pred)\n",
    "r2 = r2_score(y_test, y_pred)\n",
    "mae = mean_absolute_error(y_test, y_pred)\n",
    "\n",
    "print(f\"\\nErreur quadratique moyenne (MSE) sur l'ensemble de test : {mse}\")\n",
    "print(f\"Coefficient de détermination (R²) : {r2}\")\n",
    "print(f\"Erreur absolue moyenne (MAE) : {mae}\")\n"
   ],
   "metadata": {
    "collapsed": false,
    "ExecuteTime": {
     "end_time": "2024-02-07T01:03:42.105646100Z",
     "start_time": "2024-02-07T01:03:38.745662800Z"
    }
   },
   "id": "ef3ad9fa830e245e"
  },
  {
   "cell_type": "code",
   "execution_count": 82,
   "outputs": [
    {
     "name": "stdout",
     "output_type": "stream",
     "text": [
      "\n",
      "Erreur quadratique moyenne (MSE) sur l'ensemble de test (Régression Ridge) : 0.009586361998628412\n",
      "Coefficient de détermination (R²) pour le modèle de régression Ridge : 0.9306628083387672\n",
      "Erreur absolue moyenne (MAE) pour le modèle de régression Ridge : 0.061128434704479345\n"
     ]
    }
   ],
   "source": [
    "from sklearn.linear_model import Ridge\n",
    "\n",
    "# Initialiser le modèle de régression Ridge\n",
    "ridge_model = Ridge(alpha=1.0)  # Vous pouvez ajuster le paramètre alpha selon vos besoins\n",
    "\n",
    "# Entraîner le modèle sur l'ensemble d'entraînement\n",
    "ridge_model.fit(X_train, y_train)\n",
    "\n",
    "# Prédire les valeurs sur l'ensemble de test\n",
    "y_pred_ridge = ridge_model.predict(X_test)\n",
    "\n",
    "# Calculer les métriques d'évaluation pour le modèle de régression Ridge\n",
    "mse_ridge = mean_squared_error(y_test, y_pred_ridge)\n",
    "r2_ridge = r2_score(y_test, y_pred_ridge)\n",
    "mae_ridge = mean_absolute_error(y_test, y_pred_ridge)\n",
    "\n",
    "print(f\"\\nErreur quadratique moyenne (MSE) sur l'ensemble de test (Régression Ridge) : {mse_ridge}\")\n",
    "print(f\"Coefficient de détermination (R²) pour le modèle de régression Ridge : {r2_ridge}\")\n",
    "print(f\"Erreur absolue moyenne (MAE) pour le modèle de régression Ridge : {mae_ridge}\")\n"
   ],
   "metadata": {
    "collapsed": false,
    "ExecuteTime": {
     "end_time": "2024-02-07T01:03:42.167152700Z",
     "start_time": "2024-02-07T01:03:42.099095400Z"
    }
   },
   "id": "46008a5c17086141"
  },
  {
   "cell_type": "code",
   "execution_count": 83,
   "outputs": [
    {
     "name": "stdout",
     "output_type": "stream",
     "text": [
      "\n",
      "Erreur quadratique moyenne (MSE) sur l'ensemble de test (Gradient Boosting) : 5.720267696682279e-05\n",
      "Coefficient de détermination (R²) pour le modèle de Gradient Boosting : 0.9995862587937998\n",
      "Erreur absolue moyenne (MAE) pour le modèle de Gradient Boosting : 0.005539103689312916\n"
     ]
    }
   ],
   "source": [
    "from sklearn.ensemble import GradientBoostingRegressor\n",
    "from sklearn.metrics import mean_squared_error, r2_score, mean_absolute_error\n",
    "\n",
    "# Initialiser le modèle de Gradient Boosting pour la régression\n",
    "gb_model = GradientBoostingRegressor(random_state=42)\n",
    "\n",
    "# Entraîner le modèle sur l'ensemble d'entraînement\n",
    "gb_model.fit(X_train, y_train)\n",
    "\n",
    "# Prédire les valeurs sur l'ensemble de test\n",
    "y_pred_gb = gb_model.predict(X_test)\n",
    "\n",
    "# Calculer les métriques d'évaluation pour le modèle de Gradient Boosting\n",
    "mse_gb = mean_squared_error(y_test, y_pred_gb)\n",
    "r2_gb = r2_score(y_test, y_pred_gb)\n",
    "mae_gb = mean_absolute_error(y_test, y_pred_gb)\n",
    "\n",
    "print(f\"\\nErreur quadratique moyenne (MSE) sur l'ensemble de test (Gradient Boosting) : {mse_gb}\")\n",
    "print(f\"Coefficient de détermination (R²) pour le modèle de Gradient Boosting : {r2_gb}\")\n",
    "print(f\"Erreur absolue moyenne (MAE) pour le modèle de Gradient Boosting : {mae_gb}\")\n"
   ],
   "metadata": {
    "collapsed": false,
    "ExecuteTime": {
     "end_time": "2024-02-07T01:03:49.058562900Z",
     "start_time": "2024-02-07T01:03:42.124020100Z"
    }
   },
   "id": "7a30220fce23c2b7"
  },
  {
   "cell_type": "code",
   "execution_count": 84,
   "outputs": [
    {
     "name": "stdout",
     "output_type": "stream",
     "text": [
      "\n",
      "Erreur quadratique moyenne (MSE) sur l'ensemble de test (Régression bayésienne) : 0.009586394969751475\n",
      "Coefficient de détermination (R²) pour le modèle de régression bayésienne : 0.9306625698619521\n",
      "Erreur absolue moyenne (MAE) pour le modèle de régression bayésienne : 0.06112832927002869\n"
     ]
    }
   ],
   "source": [
    "from sklearn.linear_model import BayesianRidge\n",
    "from sklearn.metrics import mean_squared_error, r2_score, mean_absolute_error\n",
    "\n",
    "bayesian_model = BayesianRidge()\n",
    "\n",
    "# Entraîner le modèle sur l'ensemble d'entraînement\n",
    "bayesian_model.fit(X_train, y_train)\n",
    "\n",
    "# Prédire les valeurs sur l'ensemble de test\n",
    "y_pred_bayesian = bayesian_model.predict(X_test)\n",
    "\n",
    "# Calculer les métriques d'évaluation pour le modèle de régression bayésienne\n",
    "mse_bayesian = mean_squared_error(y_test, y_pred_bayesian)\n",
    "r2_bayesian = r2_score(y_test, y_pred_bayesian)\n",
    "mae_bayesian = mean_absolute_error(y_test, y_pred_bayesian)\n",
    "\n",
    "print(f\"\\nErreur quadratique moyenne (MSE) sur l'ensemble de test (Régression bayésienne) : {mse_bayesian}\")\n",
    "print(f\"Coefficient de détermination (R²) pour le modèle de régression bayésienne : {r2_bayesian}\")\n",
    "print(f\"Erreur absolue moyenne (MAE) pour le modèle de régression bayésienne : {mae_bayesian}\")\n"
   ],
   "metadata": {
    "collapsed": false,
    "ExecuteTime": {
     "end_time": "2024-02-07T01:03:49.132910100Z",
     "start_time": "2024-02-07T01:03:49.062733600Z"
    }
   },
   "id": "e1c542293773a313"
  },
  {
   "cell_type": "code",
   "execution_count": 85,
   "outputs": [
    {
     "name": "stdout",
     "output_type": "stream",
     "text": [
      "\n",
      "Erreur quadratique moyenne (MSE) sur l'ensemble de test (k-NN) : 0.00013742727825715874\n",
      "Coefficient de détermination (R²) pour le modèle k-NN : 0.9990060023256621\n",
      "Erreur absolue moyenne (MAE) pour le modèle k-NN : 0.002408081772745156\n"
     ]
    }
   ],
   "source": [
    "from sklearn.neighbors import KNeighborsRegressor\n",
    "from sklearn.metrics import mean_squared_error, r2_score, mean_absolute_error\n",
    "\n",
    "# Initialiser le modèle k-NN pour la régression (choisissez le nombre de voisins approprié avec n_neighbors)\n",
    "knn_model = KNeighborsRegressor(n_neighbors=5)\n",
    "\n",
    "# Entraîner le modèle sur l'ensemble d'entraînement\n",
    "knn_model.fit(X_train, y_train)\n",
    "\n",
    "# Prédire les valeurs sur l'ensemble de test\n",
    "y_pred_knn = knn_model.predict(X_test)\n",
    "\n",
    "# Calculer les métriques d'évaluation pour le modèle k-NN\n",
    "mse_knn = mean_squared_error(y_test, y_pred_knn)\n",
    "r2_knn = r2_score(y_test, y_pred_knn)\n",
    "mae_knn = mean_absolute_error(y_test, y_pred_knn)\n",
    "\n",
    "print(f\"\\nErreur quadratique moyenne (MSE) sur l'ensemble de test (k-NN) : {mse_knn}\")\n",
    "print(f\"Coefficient de détermination (R²) pour le modèle k-NN : {r2_knn}\")\n",
    "print(f\"Erreur absolue moyenne (MAE) pour le modèle k-NN : {mae_knn}\")\n"
   ],
   "metadata": {
    "collapsed": false,
    "ExecuteTime": {
     "end_time": "2024-02-07T01:03:49.359466800Z",
     "start_time": "2024-02-07T01:03:49.109598Z"
    }
   },
   "id": "e3f224db4be97fa9"
  },
  {
   "cell_type": "code",
   "execution_count": 86,
   "outputs": [
    {
     "data": {
      "text/plain": "     RandomForest  BayesianRidge      k-NN  GradientBoosting     Ridge  \\\nMSE      0.000002       0.009586  0.000137          0.000057  0.009586   \nR²       0.999987       0.930663  0.999006          0.999586  0.930663   \nMAE      0.000132       0.061128  0.002408          0.005539  0.061128   \n\n     LinearRegression       SVM  \nMSE          0.009586  0.003200  \nR²           0.930666  0.976854  \nMAE          0.061126  0.049508  ",
      "text/html": "<div>\n<style scoped>\n    .dataframe tbody tr th:only-of-type {\n        vertical-align: middle;\n    }\n\n    .dataframe tbody tr th {\n        vertical-align: top;\n    }\n\n    .dataframe thead th {\n        text-align: right;\n    }\n</style>\n<table border=\"1\" class=\"dataframe\">\n  <thead>\n    <tr style=\"text-align: right;\">\n      <th></th>\n      <th>RandomForest</th>\n      <th>BayesianRidge</th>\n      <th>k-NN</th>\n      <th>GradientBoosting</th>\n      <th>Ridge</th>\n      <th>LinearRegression</th>\n      <th>SVM</th>\n    </tr>\n  </thead>\n  <tbody>\n    <tr>\n      <th>MSE</th>\n      <td>0.000002</td>\n      <td>0.009586</td>\n      <td>0.000137</td>\n      <td>0.000057</td>\n      <td>0.009586</td>\n      <td>0.009586</td>\n      <td>0.003200</td>\n    </tr>\n    <tr>\n      <th>R²</th>\n      <td>0.999987</td>\n      <td>0.930663</td>\n      <td>0.999006</td>\n      <td>0.999586</td>\n      <td>0.930663</td>\n      <td>0.930666</td>\n      <td>0.976854</td>\n    </tr>\n    <tr>\n      <th>MAE</th>\n      <td>0.000132</td>\n      <td>0.061128</td>\n      <td>0.002408</td>\n      <td>0.005539</td>\n      <td>0.061128</td>\n      <td>0.061126</td>\n      <td>0.049508</td>\n    </tr>\n  </tbody>\n</table>\n</div>"
     },
     "execution_count": 86,
     "metadata": {},
     "output_type": "execute_result"
    }
   ],
   "source": [
    "# Dictionnaire pour stocker les résultats des métriques\n",
    "metrics = {}\n",
    "\n",
    "# Entraîner et évaluer chaque modèle\n",
    "for model, name in zip([random_forest_model, bayesian_model, knn_model, gb_model, ridge_model, linear_model, svm_model],\n",
    "                       ['RandomForest', 'BayesianRidge', 'k-NN', 'GradientBoosting', 'Ridge', 'LinearRegression', 'SVM']):\n",
    "    # Entraîner le modèle\n",
    "    model.fit(X_train, y_train)\n",
    "    \n",
    "    # Prédire sur l'ensemble de test\n",
    "    y_pred = model.predict(X_test)\n",
    "    \n",
    "    # Calculer les métriques\n",
    "    mse = mean_squared_error(y_test, y_pred)\n",
    "    r2 = r2_score(y_test, y_pred)\n",
    "    mae = mean_absolute_error(y_test, y_pred)\n",
    "    \n",
    "    # Stocker les métriques dans le dictionnaire\n",
    "    metrics[name] = [mse, r2, mae]\n",
    "\n",
    "# Créer un DataFrame à partir du dictionnaire\n",
    "df_metrics = pd.DataFrame(metrics, index=['MSE', 'R²', 'MAE'])\n",
    "\n",
    "# Afficher le tableau de comparaison\n",
    "df_metrics"
   ],
   "metadata": {
    "collapsed": false,
    "ExecuteTime": {
     "end_time": "2024-02-07T01:04:28.049280700Z",
     "start_time": "2024-02-07T01:03:49.368808300Z"
    }
   },
   "id": "37f5355b0f6c6c69"
  },
  {
   "cell_type": "code",
   "execution_count": 87,
   "outputs": [
    {
     "data": {
      "text/plain": "              Model     Score\n6               SVM  0.501604\n3  GradientBoosting  0.501192\n2              k-NN  0.500139\n0      RandomForest  0.500027\n5  LinearRegression  0.483011\n4             Ridge  0.483010\n1     BayesianRidge  0.483010",
      "text/html": "<div>\n<style scoped>\n    .dataframe tbody tr th:only-of-type {\n        vertical-align: middle;\n    }\n\n    .dataframe tbody tr th {\n        vertical-align: top;\n    }\n\n    .dataframe thead th {\n        text-align: right;\n    }\n</style>\n<table border=\"1\" class=\"dataframe\">\n  <thead>\n    <tr style=\"text-align: right;\">\n      <th></th>\n      <th>Model</th>\n      <th>Score</th>\n    </tr>\n  </thead>\n  <tbody>\n    <tr>\n      <th>6</th>\n      <td>SVM</td>\n      <td>0.501604</td>\n    </tr>\n    <tr>\n      <th>3</th>\n      <td>GradientBoosting</td>\n      <td>0.501192</td>\n    </tr>\n    <tr>\n      <th>2</th>\n      <td>k-NN</td>\n      <td>0.500139</td>\n    </tr>\n    <tr>\n      <th>0</th>\n      <td>RandomForest</td>\n      <td>0.500027</td>\n    </tr>\n    <tr>\n      <th>5</th>\n      <td>LinearRegression</td>\n      <td>0.483011</td>\n    </tr>\n    <tr>\n      <th>4</th>\n      <td>Ridge</td>\n      <td>0.483010</td>\n    </tr>\n    <tr>\n      <th>1</th>\n      <td>BayesianRidge</td>\n      <td>0.483010</td>\n    </tr>\n  </tbody>\n</table>\n</div>"
     },
     "execution_count": 87,
     "metadata": {},
     "output_type": "execute_result"
    }
   ],
   "source": [
    "import numpy as np\n",
    "# Calculer la note moyenne pondérée pour chaque modèle\n",
    "model_scores = []\n",
    "for name, values in metrics.items():\n",
    "    weighted_score = np.average(values, weights=[0.25, 0.5, 0.25])\n",
    "    model_scores.append([name, weighted_score])\n",
    "\n",
    "# Créer un DataFrame pour stocker les notes\n",
    "df_scores = pd.DataFrame(model_scores, columns=['Model', 'Score'])\n",
    "\n",
    "# Classer les modèles selon leur note\n",
    "df_scores = df_scores.sort_values(by='Score', ascending=False)\n",
    "\n",
    "# Afficher le tableau de classement\n",
    "df_scores"
   ],
   "metadata": {
    "collapsed": false,
    "ExecuteTime": {
     "end_time": "2024-02-07T01:04:28.105571400Z",
     "start_time": "2024-02-07T01:04:28.052667800Z"
    }
   },
   "id": "ab752f80de70a9ef"
  },
  {
   "cell_type": "code",
   "execution_count": 88,
   "outputs": [
    {
     "name": "stdout",
     "output_type": "stream",
     "text": [
      "Erreur: La valeur '' n'est pas un nombre. Assurez-vous d'entrer des valeurs numériques.\n",
      "Erreur: La valeur '' n'est pas un nombre. Assurez-vous d'entrer des valeurs numériques.\n",
      "Erreur: La valeur '' n'est pas un nombre. Assurez-vous d'entrer des valeurs numériques.\n",
      "Erreur: La valeur '' n'est pas un nombre. Assurez-vous d'entrer des valeurs numériques.\n",
      "Erreur: La valeur '' n'est pas un nombre. Assurez-vous d'entrer des valeurs numériques.\n",
      "Erreur: La valeur '' n'est pas un nombre. Assurez-vous d'entrer des valeurs numériques.\n",
      "Erreur: La valeur '' n'est pas un nombre. Assurez-vous d'entrer des valeurs numériques.\n",
      "Erreur: La valeur '' n'est pas un nombre. Assurez-vous d'entrer des valeurs numériques.\n"
     ]
    },
    {
     "ename": "ValueError",
     "evalue": "Found array with 0 sample(s) (shape=(0, 8)) while a minimum of 1 is required by LinearRegression.",
     "output_type": "error",
     "traceback": [
      "\u001B[1;31m---------------------------------------------------------------------------\u001B[0m",
      "\u001B[1;31mValueError\u001B[0m                                Traceback (most recent call last)",
      "Cell \u001B[1;32mIn[88], line 57\u001B[0m\n\u001B[0;32m     54\u001B[0m test_data_input \u001B[38;5;241m=\u001B[39m pd\u001B[38;5;241m.\u001B[39mread_excel(excel_file_path, header\u001B[38;5;241m=\u001B[39m\u001B[38;5;28;01mNone\u001B[39;00m, skiprows\u001B[38;5;241m=\u001B[39m\u001B[38;5;241m1\u001B[39m, names\u001B[38;5;241m=\u001B[39mX_train\u001B[38;5;241m.\u001B[39mcolumns)\n\u001B[0;32m     56\u001B[0m \u001B[38;5;66;03m# Prédire les valeurs sur l'ensemble de test fourni par l'utilisateur\u001B[39;00m\n\u001B[1;32m---> 57\u001B[0m y_pred \u001B[38;5;241m=\u001B[39m \u001B[43mlinear_model\u001B[49m\u001B[38;5;241;43m.\u001B[39;49m\u001B[43mpredict\u001B[49m\u001B[43m(\u001B[49m\u001B[43mtest_data_input\u001B[49m\u001B[43m)\u001B[49m\n\u001B[0;32m     59\u001B[0m \u001B[38;5;66;03m# Ajouter les prédictions au fichier Excel\u001B[39;00m\n\u001B[0;32m     60\u001B[0m sheet\u001B[38;5;241m.\u001B[39mcell(row\u001B[38;5;241m=\u001B[39m\u001B[38;5;241m1\u001B[39m, column\u001B[38;5;241m=\u001B[39m\u001B[38;5;241m9\u001B[39m, value\u001B[38;5;241m=\u001B[39m\u001B[38;5;124m'\u001B[39m\u001B[38;5;124mSales_Predicted\u001B[39m\u001B[38;5;124m'\u001B[39m)  \u001B[38;5;66;03m# Colonne I (9e colonne en commençant par 1)\u001B[39;00m\n",
      "File \u001B[1;32m~\\IdeaProjects\\machine learning\\venv\\lib\\site-packages\\sklearn\\linear_model\\_base.py:386\u001B[0m, in \u001B[0;36mLinearModel.predict\u001B[1;34m(self, X)\u001B[0m\n\u001B[0;32m    372\u001B[0m \u001B[38;5;28;01mdef\u001B[39;00m \u001B[38;5;21mpredict\u001B[39m(\u001B[38;5;28mself\u001B[39m, X):\n\u001B[0;32m    373\u001B[0m \u001B[38;5;250m    \u001B[39m\u001B[38;5;124;03m\"\"\"\u001B[39;00m\n\u001B[0;32m    374\u001B[0m \u001B[38;5;124;03m    Predict using the linear model.\u001B[39;00m\n\u001B[0;32m    375\u001B[0m \n\u001B[1;32m   (...)\u001B[0m\n\u001B[0;32m    384\u001B[0m \u001B[38;5;124;03m        Returns predicted values.\u001B[39;00m\n\u001B[0;32m    385\u001B[0m \u001B[38;5;124;03m    \"\"\"\u001B[39;00m\n\u001B[1;32m--> 386\u001B[0m     \u001B[38;5;28;01mreturn\u001B[39;00m \u001B[38;5;28;43mself\u001B[39;49m\u001B[38;5;241;43m.\u001B[39;49m\u001B[43m_decision_function\u001B[49m\u001B[43m(\u001B[49m\u001B[43mX\u001B[49m\u001B[43m)\u001B[49m\n",
      "File \u001B[1;32m~\\IdeaProjects\\machine learning\\venv\\lib\\site-packages\\sklearn\\linear_model\\_base.py:369\u001B[0m, in \u001B[0;36mLinearModel._decision_function\u001B[1;34m(self, X)\u001B[0m\n\u001B[0;32m    366\u001B[0m \u001B[38;5;28;01mdef\u001B[39;00m \u001B[38;5;21m_decision_function\u001B[39m(\u001B[38;5;28mself\u001B[39m, X):\n\u001B[0;32m    367\u001B[0m     check_is_fitted(\u001B[38;5;28mself\u001B[39m)\n\u001B[1;32m--> 369\u001B[0m     X \u001B[38;5;241m=\u001B[39m \u001B[38;5;28;43mself\u001B[39;49m\u001B[38;5;241;43m.\u001B[39;49m\u001B[43m_validate_data\u001B[49m\u001B[43m(\u001B[49m\u001B[43mX\u001B[49m\u001B[43m,\u001B[49m\u001B[43m \u001B[49m\u001B[43maccept_sparse\u001B[49m\u001B[38;5;241;43m=\u001B[39;49m\u001B[43m[\u001B[49m\u001B[38;5;124;43m\"\u001B[39;49m\u001B[38;5;124;43mcsr\u001B[39;49m\u001B[38;5;124;43m\"\u001B[39;49m\u001B[43m,\u001B[49m\u001B[43m \u001B[49m\u001B[38;5;124;43m\"\u001B[39;49m\u001B[38;5;124;43mcsc\u001B[39;49m\u001B[38;5;124;43m\"\u001B[39;49m\u001B[43m,\u001B[49m\u001B[43m \u001B[49m\u001B[38;5;124;43m\"\u001B[39;49m\u001B[38;5;124;43mcoo\u001B[39;49m\u001B[38;5;124;43m\"\u001B[39;49m\u001B[43m]\u001B[49m\u001B[43m,\u001B[49m\u001B[43m \u001B[49m\u001B[43mreset\u001B[49m\u001B[38;5;241;43m=\u001B[39;49m\u001B[38;5;28;43;01mFalse\u001B[39;49;00m\u001B[43m)\u001B[49m\n\u001B[0;32m    370\u001B[0m     \u001B[38;5;28;01mreturn\u001B[39;00m safe_sparse_dot(X, \u001B[38;5;28mself\u001B[39m\u001B[38;5;241m.\u001B[39mcoef_\u001B[38;5;241m.\u001B[39mT, dense_output\u001B[38;5;241m=\u001B[39m\u001B[38;5;28;01mTrue\u001B[39;00m) \u001B[38;5;241m+\u001B[39m \u001B[38;5;28mself\u001B[39m\u001B[38;5;241m.\u001B[39mintercept_\n",
      "File \u001B[1;32m~\\IdeaProjects\\machine learning\\venv\\lib\\site-packages\\sklearn\\base.py:605\u001B[0m, in \u001B[0;36mBaseEstimator._validate_data\u001B[1;34m(self, X, y, reset, validate_separately, cast_to_ndarray, **check_params)\u001B[0m\n\u001B[0;32m    603\u001B[0m         out \u001B[38;5;241m=\u001B[39m X, y\n\u001B[0;32m    604\u001B[0m \u001B[38;5;28;01melif\u001B[39;00m \u001B[38;5;129;01mnot\u001B[39;00m no_val_X \u001B[38;5;129;01mand\u001B[39;00m no_val_y:\n\u001B[1;32m--> 605\u001B[0m     out \u001B[38;5;241m=\u001B[39m check_array(X, input_name\u001B[38;5;241m=\u001B[39m\u001B[38;5;124m\"\u001B[39m\u001B[38;5;124mX\u001B[39m\u001B[38;5;124m\"\u001B[39m, \u001B[38;5;241m*\u001B[39m\u001B[38;5;241m*\u001B[39mcheck_params)\n\u001B[0;32m    606\u001B[0m \u001B[38;5;28;01melif\u001B[39;00m no_val_X \u001B[38;5;129;01mand\u001B[39;00m \u001B[38;5;129;01mnot\u001B[39;00m no_val_y:\n\u001B[0;32m    607\u001B[0m     out \u001B[38;5;241m=\u001B[39m _check_y(y, \u001B[38;5;241m*\u001B[39m\u001B[38;5;241m*\u001B[39mcheck_params)\n",
      "File \u001B[1;32m~\\IdeaProjects\\machine learning\\venv\\lib\\site-packages\\sklearn\\utils\\validation.py:967\u001B[0m, in \u001B[0;36mcheck_array\u001B[1;34m(array, accept_sparse, accept_large_sparse, dtype, order, copy, force_all_finite, ensure_2d, allow_nd, ensure_min_samples, ensure_min_features, estimator, input_name)\u001B[0m\n\u001B[0;32m    965\u001B[0m     n_samples \u001B[38;5;241m=\u001B[39m _num_samples(array)\n\u001B[0;32m    966\u001B[0m     \u001B[38;5;28;01mif\u001B[39;00m n_samples \u001B[38;5;241m<\u001B[39m ensure_min_samples:\n\u001B[1;32m--> 967\u001B[0m         \u001B[38;5;28;01mraise\u001B[39;00m \u001B[38;5;167;01mValueError\u001B[39;00m(\n\u001B[0;32m    968\u001B[0m             \u001B[38;5;124m\"\u001B[39m\u001B[38;5;124mFound array with \u001B[39m\u001B[38;5;132;01m%d\u001B[39;00m\u001B[38;5;124m sample(s) (shape=\u001B[39m\u001B[38;5;132;01m%s\u001B[39;00m\u001B[38;5;124m) while a\u001B[39m\u001B[38;5;124m\"\u001B[39m\n\u001B[0;32m    969\u001B[0m             \u001B[38;5;124m\"\u001B[39m\u001B[38;5;124m minimum of \u001B[39m\u001B[38;5;132;01m%d\u001B[39;00m\u001B[38;5;124m is required\u001B[39m\u001B[38;5;132;01m%s\u001B[39;00m\u001B[38;5;124m.\u001B[39m\u001B[38;5;124m\"\u001B[39m\n\u001B[0;32m    970\u001B[0m             \u001B[38;5;241m%\u001B[39m (n_samples, array\u001B[38;5;241m.\u001B[39mshape, ensure_min_samples, context)\n\u001B[0;32m    971\u001B[0m         )\n\u001B[0;32m    973\u001B[0m \u001B[38;5;28;01mif\u001B[39;00m ensure_min_features \u001B[38;5;241m>\u001B[39m \u001B[38;5;241m0\u001B[39m \u001B[38;5;129;01mand\u001B[39;00m array\u001B[38;5;241m.\u001B[39mndim \u001B[38;5;241m==\u001B[39m \u001B[38;5;241m2\u001B[39m:\n\u001B[0;32m    974\u001B[0m     n_features \u001B[38;5;241m=\u001B[39m array\u001B[38;5;241m.\u001B[39mshape[\u001B[38;5;241m1\u001B[39m]\n",
      "\u001B[1;31mValueError\u001B[0m: Found array with 0 sample(s) (shape=(0, 8)) while a minimum of 1 is required by LinearRegression."
     ]
    }
   ],
   "source": [
    "import pandas as pd\n",
    "from sklearn.linear_model import LinearRegression\n",
    "import openpyxl\n",
    "import os\n",
    "\n",
    "# Charger les données d'entraînement depuis un fichier Excel\n",
    "data_train = pd.read_excel('data_no_duplicates.xlsx')\n",
    "\n",
    "# Diviser le dataset d'entraînement\n",
    "X_train = data_train.drop('Sales', axis=1)\n",
    "y_train = data_train['Sales']\n",
    "\n",
    "# Initialiser le modèle de régression linéaire\n",
    "linear_model = LinearRegression()\n",
    "\n",
    "# Entraîner le modèle sur l'ensemble d'entraînement\n",
    "linear_model.fit(X_train, y_train)\n",
    "\n",
    "# Générer un nouveau nom de fichier Excel avec les mêmes colonnes que data_no_duplicates.xlsx (sauf 'Sales')\n",
    "counter = 1\n",
    "while True:\n",
    "    excel_file_path = f'nouveau_fichier_excel_{counter}.xlsx'\n",
    "    if not os.path.exists(excel_file_path):\n",
    "        break\n",
    "    counter += 1\n",
    "\n",
    "wb = openpyxl.Workbook()\n",
    "sheet = wb.active\n",
    "\n",
    "# Écrire les en-têtes des colonnes dans le fichier Excel\n",
    "for col_index, col_name in enumerate(X_train.columns):\n",
    "    sheet.cell(row=1, column=col_index + 1, value=col_name)\n",
    "\n",
    "# Laissez l'utilisateur entrer les données de test dans le fichier Excel (à l'exception de la colonne 'Sales')\n",
    "user_input_row = 2\n",
    "for col_index, col_name in enumerate(X_train.columns):\n",
    "    if col_name != 'Sales':\n",
    "        user_input = input(f\"Entrez la valeur pour '{col_name}': \")\n",
    "\n",
    "        # Vérifier que la valeur saisie peut être convertie en nombre\n",
    "        try:\n",
    "            user_input = float(user_input)\n",
    "        except ValueError:\n",
    "            print(f\"Erreur: La valeur '{user_input}' n'est pas un nombre. Assurez-vous d'entrer des valeurs numériques.\")\n",
    "            wb.close()\n",
    "            exit()\n",
    "\n",
    "        sheet.cell(row=user_input_row, column=col_index + 1, value=user_input)\n",
    "\n",
    "# Sauvegarder le fichier Excel avec les données de test\n",
    "wb.save(excel_file_path)\n",
    "\n",
    "# Lire les données de test depuis le fichier Excel en sautant la première ligne\n",
    "test_data_input = pd.read_excel(excel_file_path, header=None, skiprows=1, names=X_train.columns)\n",
    "\n",
    "# Prédire les valeurs sur l'ensemble de test fourni par l'utilisateur\n",
    "y_pred = linear_model.predict(test_data_input)\n",
    "\n",
    "# Ajouter les prédictions au fichier Excel\n",
    "sheet.cell(row=1, column=9, value='Sales_Predicted')  # Colonne I (9e colonne en commençant par 1)\n",
    "sheet.cell(row=user_input_row, column=9, value=y_pred[0])  # Colonne I\n",
    "\n",
    "# Sauvegarder le fichier Excel avec les prédictions\n",
    "wb.save(excel_file_path)\n",
    "\n",
    "print(f\"Les prédictions ont été ajoutées au fichier Excel '{excel_file_path}'.\")\n"
   ],
   "metadata": {
    "collapsed": false,
    "ExecuteTime": {
     "end_time": "2024-02-07T01:04:40.527226500Z",
     "start_time": "2024-02-07T01:04:28.085507800Z"
    }
   },
   "id": "80fdc1417429623e"
  },
  {
   "cell_type": "code",
   "execution_count": null,
   "outputs": [],
   "source": [
    "import pandas as pd\n",
    "import openpyxl\n",
    "import os\n",
    "\n",
    "# Charger les données d'entraînement depuis un fichier Excel\n",
    "data_train = pd.read_excel('data_no_duplicates.xlsx')\n",
    "\n",
    "# Supprimer la colonne 'Sales' du DataFrame\n",
    "data_train = data_train.drop(columns=['Sales'], errors='ignore')\n",
    "\n",
    "# Générer un nouveau nom de fichier Excel avec le nombre de colonnes\n",
    "counter = 1\n",
    "while True:\n",
    "    excel_file_path = f'nouveau_fichier_excel_{counter}.xlsx'\n",
    "    if not os.path.exists(excel_file_path):\n",
    "        break\n",
    "    counter += 1\n",
    "\n",
    "wb = openpyxl.Workbook()\n",
    "sheet = wb.active\n",
    "\n",
    "# Écrire les en-têtes des colonnes dans le fichier Excel\n",
    "for col_index, col_name in enumerate(data_train.columns):\n",
    "    sheet.cell(row=1, column=col_index + 1, value=col_name)\n",
    "\n",
    "# Laissez l'utilisateur entrer les données de test dans le fichier Excel\n",
    "user_input_row = 2\n",
    "for col_index, col_name in enumerate(data_train.columns):\n",
    "    user_input = input(f\"Entrez la valeur pour '{col_name}': \")\n",
    "\n",
    "    # Vérifier que la valeur saisie peut être convertie en nombre\n",
    "    try:\n",
    "        user_input = float(user_input)\n",
    "    except ValueError:\n",
    "        print(f\"Erreur: La valeur '{user_input}' n'est pas un nombre. Assurez-vous d'entrer des valeurs numériques.\")\n",
    "        wb.close()\n",
    "        exit()\n",
    "\n",
    "    sheet.cell(row=user_input_row, column=col_index + 1, value=user_input)\n",
    "\n",
    "# Sauvegarder le fichier Excel avec les données de test\n",
    "wb.save(excel_file_path)\n",
    "\n",
    "print(f\"Les données de test ont été ajoutées au fichier Excel '{excel_file_path}'.\")"
   ],
   "metadata": {
    "collapsed": false,
    "ExecuteTime": {
     "start_time": "2024-02-07T01:04:40.528603400Z"
    }
   },
   "id": "fc16008fb51fce5f"
  }
 ],
 "metadata": {
  "kernelspec": {
   "display_name": "Python 3 (ipykernel)",
   "language": "python",
   "name": "python3"
  },
  "language_info": {
   "codemirror_mode": {
    "name": "ipython",
    "version": 3
   },
   "file_extension": ".py",
   "mimetype": "text/x-python",
   "name": "python",
   "nbconvert_exporter": "python",
   "pygments_lexer": "ipython3",
   "version": "3.9.13"
  }
 },
 "nbformat": 4,
 "nbformat_minor": 5
}
